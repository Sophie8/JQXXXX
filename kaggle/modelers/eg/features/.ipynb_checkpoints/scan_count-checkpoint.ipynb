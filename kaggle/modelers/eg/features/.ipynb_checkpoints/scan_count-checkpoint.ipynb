{
 "cells": [
  {
   "cell_type": "code",
   "execution_count": 1,
   "metadata": {
    "collapsed": true
   },
   "outputs": [],
   "source": [
    "import pandas as pd"
   ]
  },
  {
   "cell_type": "code",
   "execution_count": 2,
   "metadata": {
    "collapsed": true
   },
   "outputs": [],
   "source": [
    "train = pd.read_csv(\n",
    "    '~/Kaggle/walmart/train.csv',\n",
    "    dtype={'TripType': str, 'VisitNumber': str},\n",
    ")"
   ]
  },
  {
   "cell_type": "code",
   "execution_count": 3,
   "metadata": {
    "collapsed": false
   },
   "outputs": [
    {
     "data": {
      "text/plain": [
       "TripType  VisitNumber\n",
       "22        5546           -1\n",
       "35        80542          -2\n",
       "38        136530         -1\n",
       "999       100010         -1\n",
       "          100030         -1\n",
       "          100054         -1\n",
       "          100065         -2\n",
       "          100114         -1\n",
       "          100135         -1\n",
       "          100152         -1\n",
       "          100156         -1\n",
       "          100221         -3\n",
       "          100225         -1\n",
       "          100239         -7\n",
       "          100252         -2\n",
       "          100294         -1\n",
       "          100335         -1\n",
       "          100346         -1\n",
       "          100379         -1\n",
       "          100386         -1\n",
       "          10039          -1\n",
       "          100405         -1\n",
       "          100419         -1\n",
       "          100433         -2\n",
       "          100440         -2\n",
       "          100464         -1\n",
       "          100483         -1\n",
       "          10051          -9\n",
       "          100535         -1\n",
       "          100547         -1\n",
       "                         ..\n",
       "          98320          -2\n",
       "          98366          -4\n",
       "          98424          -1\n",
       "          98494          -1\n",
       "          98533          -1\n",
       "          98536          -4\n",
       "          98600          -1\n",
       "          98615          -2\n",
       "          9866           -1\n",
       "          98666          -8\n",
       "          98703          -3\n",
       "          98791          -2\n",
       "          98816          -1\n",
       "          98821          -1\n",
       "          98828          -2\n",
       "          98829          -1\n",
       "          98880          -1\n",
       "          98948         -12\n",
       "          99017          -1\n",
       "          99211          -1\n",
       "          99389          -1\n",
       "          99529          -1\n",
       "          9954           -2\n",
       "          99643          -1\n",
       "          99792          -2\n",
       "          99869          -1\n",
       "          99931          -1\n",
       "          99968          -1\n",
       "          99988          -2\n",
       "          9999           -1\n",
       "Name: ScanCount, dtype: int64"
      ]
     },
     "execution_count": 3,
     "metadata": {},
     "output_type": "execute_result"
    }
   ],
   "source": [
    "scan_count = train.groupby(['TripType', 'VisitNumber'])['ScanCount'].sum()\n",
    "scan_count[scan_count < 0]"
   ]
  }
 ],
 "metadata": {
  "kernelspec": {
   "display_name": "Python 3",
   "language": "python",
   "name": "python3"
  },
  "language_info": {
   "codemirror_mode": {
    "name": "ipython",
    "version": 3
   },
   "file_extension": ".py",
   "mimetype": "text/x-python",
   "name": "python",
   "nbconvert_exporter": "python",
   "pygments_lexer": "ipython3",
   "version": "3.4.5"
  }
 },
 "nbformat": 4,
 "nbformat_minor": 2
}
