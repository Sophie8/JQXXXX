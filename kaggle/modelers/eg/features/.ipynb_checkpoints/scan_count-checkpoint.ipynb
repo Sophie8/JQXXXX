{
 "cells": [
  {
   "cell_type": "code",
   "execution_count": 1,
   "metadata": {
    "collapsed": true
   },
   "outputs": [],
   "source": [
    "import pandas as pd"
   ]
  },
  {
   "cell_type": "code",
   "execution_count": 2,
   "metadata": {
    "collapsed": true
   },
   "outputs": [],
   "source": [
    "train = pd.read_csv(\n",
    "    '~/Kaggle/walmart/train.csv',\n",
    "    dtype={'TripType': str, 'VisitNumber': str},\n",
    ")"
   ]
  },
  {
   "cell_type": "code",
   "execution_count": 3,
   "metadata": {
    "collapsed": false
   },
   "outputs": [
    {
     "data": {
      "text/plain": [
       "TripType  VisitNumber\n",
       "22        5546          -1\n",
       "35        80542         -2\n",
       "38        136530        -1\n",
       "999       100010        -1\n",
       "          100030        -1\n",
       "Name: ScanCount, dtype: int64"
      ]
     },
     "execution_count": 3,
     "metadata": {},
     "output_type": "execute_result"
    }
   ],
   "source": [
    "scan_count = train.groupby(['TripType', 'VisitNumber'])['ScanCount'].sum()\n",
    "scan_count[scan_count < 0].head()"
   ]
  }
 ],
 "metadata": {
  "kernelspec": {
   "display_name": "Python 3",
   "language": "python",
   "name": "python3"
  },
  "language_info": {
   "codemirror_mode": {
    "name": "ipython",
    "version": 3
   },
   "file_extension": ".py",
   "mimetype": "text/x-python",
   "name": "python",
   "nbconvert_exporter": "python",
   "pygments_lexer": "ipython3",
   "version": "3.4.5"
  }
 },
 "nbformat": 4,
 "nbformat_minor": 2
}
